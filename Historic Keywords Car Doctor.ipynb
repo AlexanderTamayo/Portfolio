{
 "cells": [
  {
   "cell_type": "markdown",
   "id": "12d4f44c",
   "metadata": {},
   "source": [
    "# Historic Keywords Car Doctor"
   ]
  },
  {
   "cell_type": "markdown",
   "id": "37d03cea",
   "metadata": {},
   "source": [
    "## 1. Data processing"
   ]
  },
  {
   "cell_type": "code",
   "execution_count": 2,
   "id": "98636970",
   "metadata": {},
   "outputs": [],
   "source": [
    "import pandas as pd\n",
    "import seaborn as sns\n",
    "import matplotlib.pyplot as plt\n",
    "import numpy as np"
   ]
  },
  {
   "cell_type": "code",
   "execution_count": 3,
   "id": "d9e208c4",
   "metadata": {
    "scrolled": true
   },
   "outputs": [
    {
     "data": {
      "text/html": [
       "<div>\n",
       "<style scoped>\n",
       "    .dataframe tbody tr th:only-of-type {\n",
       "        vertical-align: middle;\n",
       "    }\n",
       "\n",
       "    .dataframe tbody tr th {\n",
       "        vertical-align: top;\n",
       "    }\n",
       "\n",
       "    .dataframe thead th {\n",
       "        text-align: right;\n",
       "    }\n",
       "</style>\n",
       "<table border=\"1\" class=\"dataframe\">\n",
       "  <thead>\n",
       "    <tr style=\"text-align: right;\">\n",
       "      <th></th>\n",
       "      <th>Estado de la palabra clave</th>\n",
       "      <th>Palabra clave</th>\n",
       "      <th>Tipo de concordancia</th>\n",
       "      <th>Campaña</th>\n",
       "      <th>Grupo de anuncios</th>\n",
       "      <th>Estado</th>\n",
       "      <th>Motivos del estado</th>\n",
       "      <th>Impr.</th>\n",
       "      <th>Clics</th>\n",
       "      <th>CTR esperado</th>\n",
       "      <th>CTR</th>\n",
       "      <th>Tasa de conv.</th>\n",
       "      <th>Valor de conv.</th>\n",
       "      <th>Valor conv./coste</th>\n",
       "      <th>Conversiones</th>\n",
       "      <th>Código de moneda</th>\n",
       "      <th>CPC medio</th>\n",
       "      <th>Coste/conv.</th>\n",
       "    </tr>\n",
       "  </thead>\n",
       "  <tbody>\n",
       "    <tr>\n",
       "      <th>0</th>\n",
       "      <td>Habilitado</td>\n",
       "      <td>mecanico a domicilio cerca de mi</td>\n",
       "      <td>Concordancia amplia</td>\n",
       "      <td>BUSQUEDA AGO-SEP 2022</td>\n",
       "      <td>Grupo de anuncios 1</td>\n",
       "      <td>No apto</td>\n",
       "      <td>campaña en pausa</td>\n",
       "      <td>0.0</td>\n",
       "      <td>0</td>\n",
       "      <td>--</td>\n",
       "      <td>--</td>\n",
       "      <td>0,00%</td>\n",
       "      <td>0,00</td>\n",
       "      <td>0,00</td>\n",
       "      <td>0,00</td>\n",
       "      <td>MXN</td>\n",
       "      <td>0</td>\n",
       "      <td>0,00</td>\n",
       "    </tr>\n",
       "    <tr>\n",
       "      <th>1</th>\n",
       "      <td>Habilitado</td>\n",
       "      <td>reparación de coches</td>\n",
       "      <td>Concordancia amplia</td>\n",
       "      <td>BUSQUEDA AGO-SEP 2022</td>\n",
       "      <td>Grupo de anuncios 1</td>\n",
       "      <td>No apto</td>\n",
       "      <td>campaña en pausa</td>\n",
       "      <td>0.0</td>\n",
       "      <td>0</td>\n",
       "      <td>--</td>\n",
       "      <td>--</td>\n",
       "      <td>0,00%</td>\n",
       "      <td>0,00</td>\n",
       "      <td>0,00</td>\n",
       "      <td>0,00</td>\n",
       "      <td>MXN</td>\n",
       "      <td>0</td>\n",
       "      <td>0,00</td>\n",
       "    </tr>\n",
       "    <tr>\n",
       "      <th>2</th>\n",
       "      <td>Habilitado</td>\n",
       "      <td>mecanico auto a domicilio</td>\n",
       "      <td>Concordancia amplia</td>\n",
       "      <td>BUSQUEDA AGO-SEP 2022</td>\n",
       "      <td>Grupo de anuncios 1</td>\n",
       "      <td>No apto</td>\n",
       "      <td>campaña en pausa</td>\n",
       "      <td>0.0</td>\n",
       "      <td>0</td>\n",
       "      <td>--</td>\n",
       "      <td>--</td>\n",
       "      <td>0,00%</td>\n",
       "      <td>0,00</td>\n",
       "      <td>0,00</td>\n",
       "      <td>0,00</td>\n",
       "      <td>MXN</td>\n",
       "      <td>0</td>\n",
       "      <td>0,00</td>\n",
       "    </tr>\n",
       "    <tr>\n",
       "      <th>3</th>\n",
       "      <td>Habilitado</td>\n",
       "      <td>afinacion</td>\n",
       "      <td>Concordancia amplia</td>\n",
       "      <td>BUSQUEDA AGO-SEP 2022</td>\n",
       "      <td>Grupo de anuncios 1</td>\n",
       "      <td>No apto</td>\n",
       "      <td>campaña en pausa</td>\n",
       "      <td>74.0</td>\n",
       "      <td>7</td>\n",
       "      <td>--</td>\n",
       "      <td>9,46%</td>\n",
       "      <td>14,29%</td>\n",
       "      <td>1,00</td>\n",
       "      <td>0,01</td>\n",
       "      <td>1,00</td>\n",
       "      <td>MXN</td>\n",
       "      <td>10,75</td>\n",
       "      <td>75,28</td>\n",
       "    </tr>\n",
       "    <tr>\n",
       "      <th>4</th>\n",
       "      <td>Habilitado</td>\n",
       "      <td>mecanico automotriz a domicilio</td>\n",
       "      <td>Concordancia amplia</td>\n",
       "      <td>BUSQUEDA AGO-SEP 2022</td>\n",
       "      <td>Grupo de anuncios 1</td>\n",
       "      <td>No apto</td>\n",
       "      <td>campaña en pausa</td>\n",
       "      <td>0.0</td>\n",
       "      <td>0</td>\n",
       "      <td>--</td>\n",
       "      <td>--</td>\n",
       "      <td>0,00%</td>\n",
       "      <td>0,00</td>\n",
       "      <td>0,00</td>\n",
       "      <td>0,00</td>\n",
       "      <td>MXN</td>\n",
       "      <td>0</td>\n",
       "      <td>0,00</td>\n",
       "    </tr>\n",
       "  </tbody>\n",
       "</table>\n",
       "</div>"
      ],
      "text/plain": [
       "  Estado de la palabra clave                     Palabra clave  \\\n",
       "0                 Habilitado  mecanico a domicilio cerca de mi   \n",
       "1                 Habilitado              reparación de coches   \n",
       "2                 Habilitado         mecanico auto a domicilio   \n",
       "3                 Habilitado                         afinacion   \n",
       "4                 Habilitado   mecanico automotriz a domicilio   \n",
       "\n",
       "  Tipo de concordancia                Campaña    Grupo de anuncios   Estado  \\\n",
       "0  Concordancia amplia  BUSQUEDA AGO-SEP 2022  Grupo de anuncios 1  No apto   \n",
       "1  Concordancia amplia  BUSQUEDA AGO-SEP 2022  Grupo de anuncios 1  No apto   \n",
       "2  Concordancia amplia  BUSQUEDA AGO-SEP 2022  Grupo de anuncios 1  No apto   \n",
       "3  Concordancia amplia  BUSQUEDA AGO-SEP 2022  Grupo de anuncios 1  No apto   \n",
       "4  Concordancia amplia  BUSQUEDA AGO-SEP 2022  Grupo de anuncios 1  No apto   \n",
       "\n",
       "  Motivos del estado  Impr.  Clics CTR esperado    CTR Tasa de conv.  \\\n",
       "0   campaña en pausa    0.0      0           --     --         0,00%   \n",
       "1   campaña en pausa    0.0      0           --     --         0,00%   \n",
       "2   campaña en pausa    0.0      0           --     --         0,00%   \n",
       "3   campaña en pausa   74.0      7           --  9,46%        14,29%   \n",
       "4   campaña en pausa    0.0      0           --     --         0,00%   \n",
       "\n",
       "  Valor de conv. Valor conv./coste Conversiones Código de moneda CPC medio  \\\n",
       "0           0,00              0,00         0,00              MXN         0   \n",
       "1           0,00              0,00         0,00              MXN         0   \n",
       "2           0,00              0,00         0,00              MXN         0   \n",
       "3           1,00              0,01         1,00              MXN     10,75   \n",
       "4           0,00              0,00         0,00              MXN         0   \n",
       "\n",
       "  Coste/conv.  \n",
       "0        0,00  \n",
       "1        0,00  \n",
       "2        0,00  \n",
       "3       75,28  \n",
       "4        0,00  "
      ]
     },
     "execution_count": 3,
     "metadata": {},
     "output_type": "execute_result"
    }
   ],
   "source": [
    "df = pd.read_csv(\"D:/ALEXANDER/Desktop/CAR DOCTOR/historic_keywords_may_2024.csv\")\n",
    "df.head()"
   ]
  },
  {
   "cell_type": "code",
   "execution_count": 4,
   "id": "9277e8f6",
   "metadata": {},
   "outputs": [
    {
     "data": {
      "text/html": [
       "<div>\n",
       "<style scoped>\n",
       "    .dataframe tbody tr th:only-of-type {\n",
       "        vertical-align: middle;\n",
       "    }\n",
       "\n",
       "    .dataframe tbody tr th {\n",
       "        vertical-align: top;\n",
       "    }\n",
       "\n",
       "    .dataframe thead th {\n",
       "        text-align: right;\n",
       "    }\n",
       "</style>\n",
       "<table border=\"1\" class=\"dataframe\">\n",
       "  <thead>\n",
       "    <tr style=\"text-align: right;\">\n",
       "      <th></th>\n",
       "      <th>Palabra clave</th>\n",
       "      <th>Impr.</th>\n",
       "      <th>Clics</th>\n",
       "      <th>Conversiones</th>\n",
       "    </tr>\n",
       "  </thead>\n",
       "  <tbody>\n",
       "    <tr>\n",
       "      <th>0</th>\n",
       "      <td>mecanico a domicilio cerca de mi</td>\n",
       "      <td>0.0</td>\n",
       "      <td>0</td>\n",
       "      <td>0,00</td>\n",
       "    </tr>\n",
       "    <tr>\n",
       "      <th>1</th>\n",
       "      <td>reparación de coches</td>\n",
       "      <td>0.0</td>\n",
       "      <td>0</td>\n",
       "      <td>0,00</td>\n",
       "    </tr>\n",
       "    <tr>\n",
       "      <th>2</th>\n",
       "      <td>mecanico auto a domicilio</td>\n",
       "      <td>0.0</td>\n",
       "      <td>0</td>\n",
       "      <td>0,00</td>\n",
       "    </tr>\n",
       "    <tr>\n",
       "      <th>3</th>\n",
       "      <td>afinacion</td>\n",
       "      <td>74.0</td>\n",
       "      <td>7</td>\n",
       "      <td>1,00</td>\n",
       "    </tr>\n",
       "    <tr>\n",
       "      <th>4</th>\n",
       "      <td>mecanico automotriz a domicilio</td>\n",
       "      <td>0.0</td>\n",
       "      <td>0</td>\n",
       "      <td>0,00</td>\n",
       "    </tr>\n",
       "  </tbody>\n",
       "</table>\n",
       "</div>"
      ],
      "text/plain": [
       "                      Palabra clave  Impr.  Clics Conversiones\n",
       "0  mecanico a domicilio cerca de mi    0.0      0         0,00\n",
       "1              reparación de coches    0.0      0         0,00\n",
       "2         mecanico auto a domicilio    0.0      0         0,00\n",
       "3                         afinacion   74.0      7         1,00\n",
       "4   mecanico automotriz a domicilio    0.0      0         0,00"
      ]
     },
     "execution_count": 4,
     "metadata": {},
     "output_type": "execute_result"
    }
   ],
   "source": [
    "df2 = df[[\"Palabra clave\", \"Impr.\", \"Clics\", \"Conversiones\"]]\n",
    "df2.head()"
   ]
  },
  {
   "cell_type": "code",
   "execution_count": 5,
   "id": "b6b19c21",
   "metadata": {},
   "outputs": [],
   "source": [
    "def convert_to_float(value):\n",
    "    if isinstance(value, str):\n",
    "        return float(value.replace(',','.'))\n",
    "    else: \n",
    "        return float(value)"
   ]
  },
  {
   "cell_type": "code",
   "execution_count": 6,
   "id": "61f58bdd",
   "metadata": {},
   "outputs": [
    {
     "data": {
      "text/html": [
       "<div>\n",
       "<style scoped>\n",
       "    .dataframe tbody tr th:only-of-type {\n",
       "        vertical-align: middle;\n",
       "    }\n",
       "\n",
       "    .dataframe tbody tr th {\n",
       "        vertical-align: top;\n",
       "    }\n",
       "\n",
       "    .dataframe thead th {\n",
       "        text-align: right;\n",
       "    }\n",
       "</style>\n",
       "<table border=\"1\" class=\"dataframe\">\n",
       "  <thead>\n",
       "    <tr style=\"text-align: right;\">\n",
       "      <th></th>\n",
       "      <th>Impr.</th>\n",
       "      <th>Clics</th>\n",
       "      <th>Conversiones</th>\n",
       "    </tr>\n",
       "  </thead>\n",
       "  <tbody>\n",
       "    <tr>\n",
       "      <th>0</th>\n",
       "      <td>0.0</td>\n",
       "      <td>0.0</td>\n",
       "      <td>0.0</td>\n",
       "    </tr>\n",
       "    <tr>\n",
       "      <th>1</th>\n",
       "      <td>0.0</td>\n",
       "      <td>0.0</td>\n",
       "      <td>0.0</td>\n",
       "    </tr>\n",
       "    <tr>\n",
       "      <th>2</th>\n",
       "      <td>0.0</td>\n",
       "      <td>0.0</td>\n",
       "      <td>0.0</td>\n",
       "    </tr>\n",
       "    <tr>\n",
       "      <th>3</th>\n",
       "      <td>74.0</td>\n",
       "      <td>7.0</td>\n",
       "      <td>1.0</td>\n",
       "    </tr>\n",
       "    <tr>\n",
       "      <th>4</th>\n",
       "      <td>0.0</td>\n",
       "      <td>0.0</td>\n",
       "      <td>0.0</td>\n",
       "    </tr>\n",
       "  </tbody>\n",
       "</table>\n",
       "</div>"
      ],
      "text/plain": [
       "   Impr.  Clics  Conversiones\n",
       "0    0.0    0.0           0.0\n",
       "1    0.0    0.0           0.0\n",
       "2    0.0    0.0           0.0\n",
       "3   74.0    7.0           1.0\n",
       "4    0.0    0.0           0.0"
      ]
     },
     "execution_count": 6,
     "metadata": {},
     "output_type": "execute_result"
    }
   ],
   "source": [
    "dfnum = df2[[\"Impr.\", \"Clics\", \"Conversiones\"]].applymap(convert_to_float)\n",
    "dfnum.head()"
   ]
  },
  {
   "cell_type": "code",
   "execution_count": 7,
   "id": "997a1495",
   "metadata": {},
   "outputs": [
    {
     "data": {
      "text/plain": [
       "0    mecanico a domicilio cerca de mi\n",
       "1                reparación de coches\n",
       "2           mecanico auto a domicilio\n",
       "3                           afinacion\n",
       "4     mecanico automotriz a domicilio\n",
       "Name: Palabra clave, dtype: object"
      ]
     },
     "execution_count": 7,
     "metadata": {},
     "output_type": "execute_result"
    }
   ],
   "source": [
    "df_keywords = df2[\"Palabra clave\"]\n",
    "df_keywords.head()"
   ]
  },
  {
   "cell_type": "code",
   "execution_count": 8,
   "id": "73cb8fd0",
   "metadata": {},
   "outputs": [],
   "source": [
    "df2 = pd.concat([df_keywords,dfnum], axis = 1)"
   ]
  },
  {
   "cell_type": "code",
   "execution_count": 8,
   "id": "7f474566",
   "metadata": {},
   "outputs": [
    {
     "data": {
      "text/html": [
       "<div>\n",
       "<style scoped>\n",
       "    .dataframe tbody tr th:only-of-type {\n",
       "        vertical-align: middle;\n",
       "    }\n",
       "\n",
       "    .dataframe tbody tr th {\n",
       "        vertical-align: top;\n",
       "    }\n",
       "\n",
       "    .dataframe thead th {\n",
       "        text-align: right;\n",
       "    }\n",
       "</style>\n",
       "<table border=\"1\" class=\"dataframe\">\n",
       "  <thead>\n",
       "    <tr style=\"text-align: right;\">\n",
       "      <th></th>\n",
       "      <th>Palabra clave</th>\n",
       "      <th>Impr.</th>\n",
       "      <th>Clics</th>\n",
       "      <th>Conversiones</th>\n",
       "    </tr>\n",
       "  </thead>\n",
       "  <tbody>\n",
       "    <tr>\n",
       "      <th>0</th>\n",
       "      <td>mecanico a domicilio cerca de mi</td>\n",
       "      <td>0.0</td>\n",
       "      <td>0.0</td>\n",
       "      <td>0.0</td>\n",
       "    </tr>\n",
       "    <tr>\n",
       "      <th>1</th>\n",
       "      <td>reparación de coches</td>\n",
       "      <td>0.0</td>\n",
       "      <td>0.0</td>\n",
       "      <td>0.0</td>\n",
       "    </tr>\n",
       "    <tr>\n",
       "      <th>2</th>\n",
       "      <td>mecanico auto a domicilio</td>\n",
       "      <td>0.0</td>\n",
       "      <td>0.0</td>\n",
       "      <td>0.0</td>\n",
       "    </tr>\n",
       "    <tr>\n",
       "      <th>3</th>\n",
       "      <td>afinacion</td>\n",
       "      <td>74.0</td>\n",
       "      <td>7.0</td>\n",
       "      <td>1.0</td>\n",
       "    </tr>\n",
       "    <tr>\n",
       "      <th>4</th>\n",
       "      <td>mecanico automotriz a domicilio</td>\n",
       "      <td>0.0</td>\n",
       "      <td>0.0</td>\n",
       "      <td>0.0</td>\n",
       "    </tr>\n",
       "  </tbody>\n",
       "</table>\n",
       "</div>"
      ],
      "text/plain": [
       "                      Palabra clave  Impr.  Clics  Conversiones\n",
       "0  mecanico a domicilio cerca de mi    0.0    0.0           0.0\n",
       "1              reparación de coches    0.0    0.0           0.0\n",
       "2         mecanico auto a domicilio    0.0    0.0           0.0\n",
       "3                         afinacion   74.0    7.0           1.0\n",
       "4   mecanico automotriz a domicilio    0.0    0.0           0.0"
      ]
     },
     "execution_count": 8,
     "metadata": {},
     "output_type": "execute_result"
    }
   ],
   "source": [
    "df2.head()"
   ]
  },
  {
   "cell_type": "code",
   "execution_count": 9,
   "id": "7e67f5d0",
   "metadata": {},
   "outputs": [
    {
     "data": {
      "text/html": [
       "<div>\n",
       "<style scoped>\n",
       "    .dataframe tbody tr th:only-of-type {\n",
       "        vertical-align: middle;\n",
       "    }\n",
       "\n",
       "    .dataframe tbody tr th {\n",
       "        vertical-align: top;\n",
       "    }\n",
       "\n",
       "    .dataframe thead th {\n",
       "        text-align: right;\n",
       "    }\n",
       "</style>\n",
       "<table border=\"1\" class=\"dataframe\">\n",
       "  <thead>\n",
       "    <tr style=\"text-align: right;\">\n",
       "      <th></th>\n",
       "      <th>Palabra clave</th>\n",
       "      <th>Impr.</th>\n",
       "      <th>Clics</th>\n",
       "      <th>Conversiones</th>\n",
       "    </tr>\n",
       "  </thead>\n",
       "  <tbody>\n",
       "    <tr>\n",
       "      <th>479</th>\n",
       "      <td>mecanico a domicilio</td>\n",
       "      <td>1.121</td>\n",
       "      <td>204.0</td>\n",
       "      <td>73.84</td>\n",
       "    </tr>\n",
       "    <tr>\n",
       "      <th>476</th>\n",
       "      <td>servicio automotriz</td>\n",
       "      <td>2.150</td>\n",
       "      <td>207.0</td>\n",
       "      <td>60.50</td>\n",
       "    </tr>\n",
       "    <tr>\n",
       "      <th>406</th>\n",
       "      <td>mecanico a domicilio</td>\n",
       "      <td>1.194</td>\n",
       "      <td>186.0</td>\n",
       "      <td>59.00</td>\n",
       "    </tr>\n",
       "    <tr>\n",
       "      <th>323</th>\n",
       "      <td>taller automotriz</td>\n",
       "      <td>1.274</td>\n",
       "      <td>124.0</td>\n",
       "      <td>41.00</td>\n",
       "    </tr>\n",
       "    <tr>\n",
       "      <th>417</th>\n",
       "      <td>taller mecanico</td>\n",
       "      <td>1.716</td>\n",
       "      <td>177.0</td>\n",
       "      <td>39.00</td>\n",
       "    </tr>\n",
       "  </tbody>\n",
       "</table>\n",
       "</div>"
      ],
      "text/plain": [
       "            Palabra clave  Impr.  Clics  Conversiones\n",
       "479  mecanico a domicilio  1.121  204.0         73.84\n",
       "476   servicio automotriz  2.150  207.0         60.50\n",
       "406  mecanico a domicilio  1.194  186.0         59.00\n",
       "323     taller automotriz  1.274  124.0         41.00\n",
       "417       taller mecanico  1.716  177.0         39.00"
      ]
     },
     "execution_count": 9,
     "metadata": {},
     "output_type": "execute_result"
    }
   ],
   "source": [
    "df2 = df2.sort_values(by = \"Conversiones\", ascending=False)\n",
    "df2.head()"
   ]
  },
  {
   "cell_type": "code",
   "execution_count": 10,
   "id": "e65adcd5",
   "metadata": {},
   "outputs": [],
   "source": [
    "df_final = df2.groupby(\"Palabra clave\")[[\"Impr.\", \"Clics\", \"Conversiones\"]].sum().reset_index()"
   ]
  },
  {
   "cell_type": "code",
   "execution_count": 11,
   "id": "95985534",
   "metadata": {},
   "outputs": [],
   "source": [
    "df_final = df_final.sort_values(by = \"Conversiones\", ascending = False)"
   ]
  },
  {
   "cell_type": "code",
   "execution_count": 12,
   "id": "6161e2c8",
   "metadata": {},
   "outputs": [
    {
     "data": {
      "text/html": [
       "<div>\n",
       "<style scoped>\n",
       "    .dataframe tbody tr th:only-of-type {\n",
       "        vertical-align: middle;\n",
       "    }\n",
       "\n",
       "    .dataframe tbody tr th {\n",
       "        vertical-align: top;\n",
       "    }\n",
       "\n",
       "    .dataframe thead th {\n",
       "        text-align: right;\n",
       "    }\n",
       "</style>\n",
       "<table border=\"1\" class=\"dataframe\">\n",
       "  <thead>\n",
       "    <tr style=\"text-align: right;\">\n",
       "      <th></th>\n",
       "      <th>Palabra clave</th>\n",
       "      <th>Impr.</th>\n",
       "      <th>Clics</th>\n",
       "      <th>Conversiones</th>\n",
       "    </tr>\n",
       "  </thead>\n",
       "  <tbody>\n",
       "    <tr>\n",
       "      <th>97</th>\n",
       "      <td>servicio automotriz</td>\n",
       "      <td>6394.198</td>\n",
       "      <td>1272.0</td>\n",
       "      <td>308.67</td>\n",
       "    </tr>\n",
       "    <tr>\n",
       "      <th>43</th>\n",
       "      <td>mecanico a domicilio</td>\n",
       "      <td>3291.315</td>\n",
       "      <td>899.0</td>\n",
       "      <td>264.26</td>\n",
       "    </tr>\n",
       "    <tr>\n",
       "      <th>124</th>\n",
       "      <td>taller automotriz</td>\n",
       "      <td>5942.068</td>\n",
       "      <td>1079.0</td>\n",
       "      <td>198.84</td>\n",
       "    </tr>\n",
       "    <tr>\n",
       "      <th>167</th>\n",
       "      <td>taller mecanico</td>\n",
       "      <td>6578.140</td>\n",
       "      <td>1007.0</td>\n",
       "      <td>167.50</td>\n",
       "    </tr>\n",
       "    <tr>\n",
       "      <th>55</th>\n",
       "      <td>mecanico cerca de mi</td>\n",
       "      <td>4390.000</td>\n",
       "      <td>672.0</td>\n",
       "      <td>124.66</td>\n",
       "    </tr>\n",
       "  </tbody>\n",
       "</table>\n",
       "</div>"
      ],
      "text/plain": [
       "            Palabra clave     Impr.   Clics  Conversiones\n",
       "97    servicio automotriz  6394.198  1272.0        308.67\n",
       "43   mecanico a domicilio  3291.315   899.0        264.26\n",
       "124     taller automotriz  5942.068  1079.0        198.84\n",
       "167       taller mecanico  6578.140  1007.0        167.50\n",
       "55   mecanico cerca de mi  4390.000   672.0        124.66"
      ]
     },
     "execution_count": 12,
     "metadata": {},
     "output_type": "execute_result"
    }
   ],
   "source": [
    "df_final.head()"
   ]
  },
  {
   "cell_type": "markdown",
   "id": "20bae248",
   "metadata": {},
   "source": [
    "## 2. Import to CSV"
   ]
  },
  {
   "cell_type": "code",
   "execution_count": 79,
   "id": "fc6288b5",
   "metadata": {},
   "outputs": [],
   "source": [
    "df_final.to_csv(\"Resultado Palabras Clave Historico Mayo 2024.csv\")"
   ]
  },
  {
   "cell_type": "markdown",
   "id": "085b0b0a",
   "metadata": {},
   "source": [
    "## 3. Data Visualization"
   ]
  },
  {
   "cell_type": "code",
   "execution_count": 26,
   "id": "511cd464",
   "metadata": {},
   "outputs": [
    {
     "data": {
      "image/png": "[encoded data removed]",
      "text/plain": [
       "<Figure size 640x480 with 1 Axes>"
      ]
     },
     "metadata": {},
     "output_type": "display_data"
    }
   ],
   "source": [
    "k = df_final[\"Palabra clave\"]\n",
    "x = df_final[\"Impr.\"]\n",
    "y = df_final[\"Conversiones\"]\n",
    "z = df_final[\"Clics\"]\n",
    "plt.scatter(x,y)\n",
    "plt.title(\"Correlation Graphic Impressions-Conversions\")\n",
    "plt.xlabel(\"Impressions\")\n",
    "plt.ylabel(\"Conversions\")\n",
    "plt.show()"
   ]
  },
  {
   "cell_type": "code",
   "execution_count": 27,
   "id": "25166697",
   "metadata": {},
   "outputs": [
    {
     "data": {
      "image/png": "[encoded data removed]",
      "text/plain": [
       "<Figure size 640x480 with 1 Axes>"
      ]
     },
     "metadata": {},
     "output_type": "display_data"
    }
   ],
   "source": [
    "plt.scatter(z,y)\n",
    "plt.title(\"Correlation Graphic Clicks-Conversions\")\n",
    "plt.xlabel(\"Clicks\")\n",
    "plt.ylabel(\"Conversions\")\n",
    "plt.show()"
   ]
  },
  {
   "cell_type": "code",
   "execution_count": 15,
   "id": "998efa21",
   "metadata": {},
   "outputs": [
    {
     "name": "stderr",
     "output_type": "stream",
     "text": [
      "C:\\Users\\52332\\AppData\\Local\\Temp\\ipykernel_12900\\1675215204.py:1: FutureWarning: The default value of numeric_only in DataFrame.corr is deprecated. In a future version, it will default to False. Select only valid columns or specify the value of numeric_only to silence this warning.\n",
      "  corr = df_final.corr()\n"
     ]
    }
   ],
   "source": [
    "corr = df_final.corr()"
   ]
  },
  {
   "cell_type": "code",
   "execution_count": 25,
   "id": "52dd3b56",
   "metadata": {},
   "outputs": [
    {
     "data": {
      "image/png": "[encoded data removed]",
      "text/plain": [
       "<Figure size 640x480 with 2 Axes>"
      ]
     },
     "metadata": {},
     "output_type": "display_data"
    }
   ],
   "source": [
    "plt.title(\"Metrics Correlation Google Ads\")\n",
    "sns.heatmap(corr)\n",
    "plt.show()"
   ]
  },
  {
   "cell_type": "code",
   "execution_count": 17,
   "id": "42c5c2b7",
   "metadata": {},
   "outputs": [
    {
     "data": {
      "text/html": [
       "<div>\n",
       "<style scoped>\n",
       "    .dataframe tbody tr th:only-of-type {\n",
       "        vertical-align: middle;\n",
       "    }\n",
       "\n",
       "    .dataframe tbody tr th {\n",
       "        vertical-align: top;\n",
       "    }\n",
       "\n",
       "    .dataframe thead th {\n",
       "        text-align: right;\n",
       "    }\n",
       "</style>\n",
       "<table border=\"1\" class=\"dataframe\">\n",
       "  <thead>\n",
       "    <tr style=\"text-align: right;\">\n",
       "      <th></th>\n",
       "      <th>Impr.</th>\n",
       "      <th>Clics</th>\n",
       "      <th>Conversiones</th>\n",
       "    </tr>\n",
       "  </thead>\n",
       "  <tbody>\n",
       "    <tr>\n",
       "      <th>Impr.</th>\n",
       "      <td>1.000000</td>\n",
       "      <td>0.942669</td>\n",
       "      <td>0.885192</td>\n",
       "    </tr>\n",
       "    <tr>\n",
       "      <th>Clics</th>\n",
       "      <td>0.942669</td>\n",
       "      <td>1.000000</td>\n",
       "      <td>0.972395</td>\n",
       "    </tr>\n",
       "    <tr>\n",
       "      <th>Conversiones</th>\n",
       "      <td>0.885192</td>\n",
       "      <td>0.972395</td>\n",
       "      <td>1.000000</td>\n",
       "    </tr>\n",
       "  </tbody>\n",
       "</table>\n",
       "</div>"
      ],
      "text/plain": [
       "                 Impr.     Clics  Conversiones\n",
       "Impr.         1.000000  0.942669      0.885192\n",
       "Clics         0.942669  1.000000      0.972395\n",
       "Conversiones  0.885192  0.972395      1.000000"
      ]
     },
     "execution_count": 17,
     "metadata": {},
     "output_type": "execute_result"
    }
   ],
   "source": [
    "corr"
   ]
  },
  {
   "cell_type": "code",
   "execution_count": null,
   "id": "9ee18780",
   "metadata": {},
   "outputs": [],
   "source": []
  }
 ],
 "metadata": {
  "kernelspec": {
   "display_name": "Python 3 (ipykernel)",
   "language": "python",
   "name": "python3"
  },
  "language_info": {
   "codemirror_mode": {
    "name": "ipython",
    "version": 3
   },
   "file_extension": ".py",
   "mimetype": "text/x-python",
   "name": "python",
   "nbconvert_exporter": "python",
   "pygments_lexer": "ipython3",
   "version": "3.10.9"
  }
 },
 "nbformat": 4,
 "nbformat_minor": 5
}
